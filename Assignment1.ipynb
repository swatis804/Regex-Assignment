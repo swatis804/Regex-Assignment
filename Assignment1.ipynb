{
  "nbformat": 4,
  "nbformat_minor": 0,
  "metadata": {
    "colab": {
      "name": "Assignment1.ipynb",
      "provenance": [],
      "collapsed_sections": [],
      "authorship_tag": "ABX9TyPqyJmSuE7QylSKINoAyQsd",
      "include_colab_link": true
    },
    "kernelspec": {
      "name": "python3",
      "display_name": "Python 3"
    },
    "language_info": {
      "name": "python"
    }
  },
  "cells": [
    {
      "cell_type": "markdown",
      "metadata": {
        "id": "view-in-github",
        "colab_type": "text"
      },
      "source": [
        "<a href=\"https://colab.research.google.com/github/swatis804/Regex-Assignment/blob/main/Assignment1.ipynb\" target=\"_parent\"><img src=\"https://colab.research.google.com/assets/colab-badge.svg\" alt=\"Open In Colab\"/></a>"
      ]
    },
    {
      "cell_type": "markdown",
      "metadata": {
        "id": "njLmnI2CCi9Q"
      },
      "source": [
        "# Pattern 1 "
      ]
    },
    {
      "cell_type": "code",
      "metadata": {
        "colab": {
          "base_uri": "https://localhost:8080/"
        },
        "id": "WtB1SWIzBppl",
        "outputId": "d38f5fa0-384b-4e89-8b79-25adb20aa3ea"
      },
      "source": [
        "n = int(input())\n",
        "for i in range(0,n+1):\n",
        "  for j in range(0,n-i):\n",
        "    print('5',end ='')\n",
        "  print()"
      ],
      "execution_count": null,
      "outputs": [
        {
          "output_type": "stream",
          "text": [
            "5\n",
            "55555\n",
            "5555\n",
            "555\n",
            "55\n",
            "5\n",
            "\n"
          ],
          "name": "stdout"
        }
      ]
    },
    {
      "cell_type": "markdown",
      "metadata": {
        "id": "2XL43j4pChUl"
      },
      "source": [
        "# Pattern 2 "
      ]
    },
    {
      "cell_type": "code",
      "metadata": {
        "colab": {
          "base_uri": "https://localhost:8080/"
        },
        "id": "2yEiXwYTFMaA",
        "outputId": "181d893e-0caa-4ab0-f891-c2b09a075271"
      },
      "source": [
        "n = int(input())\n",
        "for i in range(n,0,-1):\n",
        "  for j in range(0,i+1):\n",
        "    print(j,end ='')\n",
        "  print()"
      ],
      "execution_count": null,
      "outputs": [
        {
          "output_type": "stream",
          "text": [
            "5\n",
            "012345\n",
            "01234\n",
            "0123\n",
            "012\n",
            "01\n"
          ],
          "name": "stdout"
        }
      ]
    },
    {
      "cell_type": "markdown",
      "metadata": {
        "id": "o0HSyj4eCzeC"
      },
      "source": [
        "# Pattern 3\n"
      ]
    },
    {
      "cell_type": "code",
      "metadata": {
        "colab": {
          "base_uri": "https://localhost:8080/"
        },
        "id": "dTW2aYQCGtx2",
        "outputId": "116fe255-462f-49cb-847c-46839a8afea2"
      },
      "source": [
        "row_num=1\n",
        "row=1\n",
        "while row<=5:\n",
        "    col_num=row_num\n",
        "    for col in range(0,row):\n",
        "        print(col_num,end=' ')\n",
        "    print(end='\\n')\n",
        "        \n",
        "    row_num+=2\n",
        "    row+=1\n",
        "\n",
        "\n"
      ],
      "execution_count": null,
      "outputs": [
        {
          "output_type": "stream",
          "text": [
            "1 \n",
            "3 3 \n",
            "5 5 5 \n",
            "7 7 7 7 \n",
            "9 9 9 9 9 \n"
          ],
          "name": "stdout"
        }
      ]
    },
    {
      "cell_type": "markdown",
      "metadata": {
        "id": "mg8iLqieC4Qn"
      },
      "source": [
        "# Pattern 4\n",
        "\n"
      ]
    },
    {
      "cell_type": "code",
      "metadata": {
        "colab": {
          "base_uri": "https://localhost:8080/"
        },
        "id": "Yb_PivfPC6Lz",
        "outputId": "d94e59c2-1845-4fde-ed13-f6799c2c3bdd"
      },
      "source": [
        "row=1\n",
        "\n",
        "while row<=5:\n",
        "    col=row\n",
        "    while col>=1:\n",
        "        print(col,end=' ')\n",
        "        col-=1\n",
        "    print(end='\\n')\n",
        "    \n",
        "    row+=1"
      ],
      "execution_count": null,
      "outputs": [
        {
          "output_type": "stream",
          "text": [
            "1 \n",
            "2 1 \n",
            "3 2 1 \n",
            "4 3 2 1 \n",
            "5 4 3 2 1 \n"
          ],
          "name": "stdout"
        }
      ]
    },
    {
      "cell_type": "markdown",
      "metadata": {
        "id": "w8gLOEKKDA97"
      },
      "source": [
        "#Pattern 5\n"
      ]
    },
    {
      "cell_type": "code",
      "metadata": {
        "colab": {
          "base_uri": "https://localhost:8080/"
        },
        "id": "CzYPglvKDAuH",
        "outputId": "300cafd7-4772-41a7-b7d2-182930627e1f"
      },
      "source": [
        "row=1\n",
        "num=0\n",
        "while row<5:\n",
        "    col=row\n",
        "    num+=row\n",
        "    while col>=1:\n",
        "        print(num,end=' ')\n",
        "        col-=1\n",
        "        num-=1\n",
        "    print(end='\\n')\n",
        "    num+=row\n",
        "    \n",
        "    row+=1"
      ],
      "execution_count": null,
      "outputs": [
        {
          "output_type": "stream",
          "text": [
            "1 \n",
            "3 2 \n",
            "6 5 4 \n",
            "10 9 8 7 \n"
          ],
          "name": "stdout"
        }
      ]
    },
    {
      "cell_type": "markdown",
      "metadata": {
        "id": "_mmJ7momDH8n"
      },
      "source": [
        "#Pattern 6\n"
      ]
    },
    {
      "cell_type": "code",
      "metadata": {
        "colab": {
          "base_uri": "https://localhost:8080/"
        },
        "id": "htIuc-cRDKNp",
        "outputId": "148290a4-d707-4fcf-a8f4-8b0e85037718"
      },
      "source": [
        "n = 7\n",
        "for i in range(1, n+1): \n",
        "    num = 1\n",
        "    for j in range(1, i+1): \n",
        "        print(' ', num, sep='', end='')\n",
        "        num = num * (i - j) // j \n",
        "\n",
        "    print()"
      ],
      "execution_count": null,
      "outputs": [
        {
          "output_type": "stream",
          "text": [
            " 1\n",
            " 1 1\n",
            " 1 2 1\n",
            " 1 3 3 1\n",
            " 1 4 6 4 1\n",
            " 1 5 10 10 5 1\n",
            " 1 6 15 20 15 6 1\n"
          ],
          "name": "stdout"
        }
      ]
    },
    {
      "cell_type": "markdown",
      "metadata": {
        "id": "p1uD7QmRDP9M"
      },
      "source": [
        "#Pattern 7\n"
      ]
    },
    {
      "cell_type": "code",
      "metadata": {
        "colab": {
          "base_uri": "https://localhost:8080/"
        },
        "id": "f_ZWho8_DSX5",
        "outputId": "2399a108-00c4-4c0f-b5a4-e5cd44e5f34a"
      },
      "source": [
        "rows = 5\n",
        "for i in range(1, rows + 1):\n",
        "    for j in range(1, rows + 1):\n",
        "        if j <= i:\n",
        "            print(i, end=' ')\n",
        "        else:\n",
        "            print(j, end=' ')\n",
        "    print()"
      ],
      "execution_count": null,
      "outputs": [
        {
          "output_type": "stream",
          "text": [
            "1 2 3 4 5 \n",
            "2 2 3 4 5 \n",
            "3 3 3 4 5 \n",
            "4 4 4 4 5 \n",
            "5 5 5 5 5 \n"
          ],
          "name": "stdout"
        }
      ]
    },
    {
      "cell_type": "markdown",
      "metadata": {
        "id": "bMvFUm9SDWzB"
      },
      "source": [
        "#Pattern 8\n"
      ]
    },
    {
      "cell_type": "code",
      "metadata": {
        "colab": {
          "base_uri": "https://localhost:8080/"
        },
        "id": "384oO5BuDWMv",
        "outputId": "ccf19f68-12f0-41aa-f92b-3566a5a2f8c9"
      },
      "source": [
        "rows = 8\n",
        "for i in range(1, rows + 1):\n",
        "    for j in range(1, i + 1):\n",
        "        sqr = i * j\n",
        "        print(i * j, end='  ')\n",
        "    print()"
      ],
      "execution_count": null,
      "outputs": [
        {
          "output_type": "stream",
          "text": [
            "1  \n",
            "2  4  \n",
            "3  6  9  \n",
            "4  8  12  16  \n",
            "5  10  15  20  25  \n",
            "6  12  18  24  30  36  \n",
            "7  14  21  28  35  42  49  \n",
            "8  16  24  32  40  48  56  64  \n"
          ],
          "name": "stdout"
        }
      ]
    },
    {
      "cell_type": "markdown",
      "metadata": {
        "id": "rtl8qI_gDcMH"
      },
      "source": [
        "#Pattern 9\n"
      ]
    },
    {
      "cell_type": "code",
      "metadata": {
        "colab": {
          "base_uri": "https://localhost:8080/"
        },
        "id": "oLGFoy3_DeBV",
        "outputId": "34d3f01b-a5ca-4c9b-a59e-030714519469"
      },
      "source": [
        "k=6\n",
        "z=1\n",
        "\n",
        "print(\"\\n\")\n",
        "while k>=1:\n",
        "    m=k\n",
        "    zz=z\n",
        "    print(\"\\t\",end=' ')\n",
        "    while z>=1:\n",
        "        print(' ',end=' ')\n",
        "        z-=1\n",
        "    \n",
        "    while m>=1:\n",
        "        \n",
        "        print(\"*\",end='  ')\n",
        "        m-=1\n",
        "        \n",
        "    print(end='\\n')\n",
        "    \n",
        "    k-=1\n",
        "    z=zz+1"
      ],
      "execution_count": null,
      "outputs": [
        {
          "output_type": "stream",
          "text": [
            "\n",
            "\n",
            "\t   *  *  *  *  *  *  \n",
            "\t     *  *  *  *  *  \n",
            "\t       *  *  *  *  \n",
            "\t         *  *  *  \n",
            "\t           *  *  \n",
            "\t             *  \n"
          ],
          "name": "stdout"
        }
      ]
    },
    {
      "cell_type": "markdown",
      "metadata": {
        "id": "jjzhyq1mDiqG"
      },
      "source": [
        "# Pattern 10\n",
        "\n"
      ]
    },
    {
      "cell_type": "code",
      "metadata": {
        "colab": {
          "base_uri": "https://localhost:8080/"
        },
        "id": "4aT8etqwDnkd",
        "outputId": "8fb8ac12-2424-4858-a7c0-bde53861a640"
      },
      "source": [
        "k=1\n",
        "z=6\n",
        "\n",
        "print(\"\\n\")\n",
        "while k<=8:\n",
        "    m=k\n",
        "\n",
        "    zz=z\n",
        "    print(\"\\t\",end='')\n",
        "    while z>=0:\n",
        "        print(end=' ')\n",
        "        z-=1\n",
        "    \n",
        "    while m>1:\n",
        "        \n",
        "        print(\"*\",end='  ')\n",
        "        m-=1\n",
        "        \n",
        "    print(end='\\n')\n",
        "    \n",
        "    k+=1\n",
        "    z=zz-1"
      ],
      "execution_count": null,
      "outputs": [
        {
          "output_type": "stream",
          "text": [
            "\n",
            "\n",
            "\t       \n",
            "\t      *  \n",
            "\t     *  *  \n",
            "\t    *  *  *  \n",
            "\t   *  *  *  *  \n",
            "\t  *  *  *  *  *  \n",
            "\t *  *  *  *  *  *  \n",
            "\t*  *  *  *  *  *  *  \n"
          ],
          "name": "stdout"
        }
      ]
    },
    {
      "cell_type": "markdown",
      "metadata": {
        "id": "z5dQg1TJDr1d"
      },
      "source": [
        "#Pattern 11\n",
        "\n"
      ]
    },
    {
      "cell_type": "code",
      "metadata": {
        "colab": {
          "base_uri": "https://localhost:8080/"
        },
        "id": "sbelRqGqDtZO",
        "outputId": "ae4dfac6-918e-4303-8ad0-a99f3683940a"
      },
      "source": [
        "k=1\n",
        "z=6\n",
        "\n",
        "print(\"\\n\")\n",
        "while k<=8:\n",
        "    m=k\n",
        "\n",
        "    zz=z\n",
        "    print(\"\\t\",end=' ')\n",
        "  \n",
        "    \n",
        "    while m>2:\n",
        "        \n",
        "        print(\"*\",end='  ')\n",
        "        m-=1\n",
        "        \n",
        "    print(end='\\n')\n",
        "    \n",
        "    k+=1\n",
        "    z=zz-1\n",
        "    \n",
        "k=6    \n",
        "z=1\n",
        "\n",
        "k=6\n",
        "z=1\n",
        "\n",
        "print(\"\\n\")\n",
        "while k>=1:\n",
        "    m=k\n",
        "    zz=z\n",
        "    print(\"\\t\",end=' ')\n",
        "    \n",
        "    \n",
        "    while m>=1:\n",
        "        \n",
        "        print(\"*\",end='  ')\n",
        "        m-=1\n",
        "        \n",
        "    print(end='\\n')\n",
        "    \n",
        "    k-=1\n",
        "    z=zz+1\n"
      ],
      "execution_count": null,
      "outputs": [
        {
          "output_type": "stream",
          "text": [
            "\n",
            "\n",
            "\t \n",
            "\t \n",
            "\t *  \n",
            "\t *  *  \n",
            "\t *  *  *  \n",
            "\t *  *  *  *  \n",
            "\t *  *  *  *  *  \n",
            "\t *  *  *  *  *  *  \n",
            "\n",
            "\n",
            "\t *  *  *  *  *  *  \n",
            "\t *  *  *  *  *  \n",
            "\t *  *  *  *  \n",
            "\t *  *  *  \n",
            "\t *  *  \n",
            "\t *  \n"
          ],
          "name": "stdout"
        }
      ]
    },
    {
      "cell_type": "markdown",
      "metadata": {
        "id": "CWu8RXCVD8US"
      },
      "source": [
        "#Pattern 12\n"
      ]
    },
    {
      "cell_type": "code",
      "metadata": {
        "colab": {
          "base_uri": "https://localhost:8080/"
        },
        "id": "6PXLnN2zD9s7",
        "outputId": "f44c1839-10e7-4459-da39-41baf6ba6303"
      },
      "source": [
        "row=1\n",
        "while row<=9:\n",
        "    if row<=5:\n",
        "        col=row\n",
        "        temp=row\n",
        "        while col>=1:\n",
        "            print('* ',end='')\n",
        "            col-=1\n",
        "        if temp==5:\n",
        "            print()\n",
        "            for j in range(0,4):\n",
        "                print(\"* \",end='')\n",
        "    else:\n",
        "        col=9-row\n",
        "        while col>=1:\n",
        "            print(\"* \",end='')\n",
        "            col-=1\n",
        "    print()\n",
        "    row+=1"
      ],
      "execution_count": null,
      "outputs": [
        {
          "output_type": "stream",
          "text": [
            "* \n",
            "* * \n",
            "* * * \n",
            "* * * * \n",
            "* * * * * \n",
            "* * * * \n",
            "* * * \n",
            "* * \n",
            "* \n",
            "\n"
          ],
          "name": "stdout"
        }
      ]
    },
    {
      "cell_type": "markdown",
      "metadata": {
        "id": "yUC39TuYEIa1"
      },
      "source": [
        "# Pattern 13\n"
      ]
    },
    {
      "cell_type": "code",
      "metadata": {
        "colab": {
          "base_uri": "https://localhost:8080/"
        },
        "id": "BV3rQMrlEIxu",
        "outputId": "51154d03-ceb2-463d-a8fb-7874f08ca8a3"
      },
      "source": [
        "row=5\n",
        "while row>=1:\n",
        "    col=row-1\n",
        "    while col>=1:\n",
        "        print('  ',end='')\n",
        "        col-=1\n",
        "    stars=5-(row-1)\n",
        "    while stars>=1:\n",
        "        print(\"* \",end='')\n",
        "        stars-=1\n",
        "    print()\n",
        "    row-=1\n",
        "row=4\n",
        "while row>=1:\n",
        "    col=4-row+1\n",
        "    while col>=1:\n",
        "        print('  ',end='')\n",
        "        col-=1\n",
        "    stars=row\n",
        "    while stars>=1:\n",
        "        print(\"*\",end=' ')\n",
        "        stars-=1\n",
        "    print()\n",
        "    row-=1"
      ],
      "execution_count": null,
      "outputs": [
        {
          "output_type": "stream",
          "text": [
            "        * \n",
            "      * * \n",
            "    * * * \n",
            "  * * * * \n",
            "* * * * * \n",
            "  * * * * \n",
            "    * * * \n",
            "      * * \n",
            "        * \n"
          ],
          "name": "stdout"
        }
      ]
    },
    {
      "cell_type": "markdown",
      "metadata": {
        "id": "vAc-jC2qEnA0"
      },
      "source": [
        "#Pattern 14\n"
      ]
    },
    {
      "cell_type": "code",
      "metadata": {
        "colab": {
          "base_uri": "https://localhost:8080/"
        },
        "id": "fwsmo9m9EiTh",
        "outputId": "d7a3913e-6a3a-4218-b195-11d17e667eb0"
      },
      "source": [
        "k=5\n",
        "z=1\n",
        "\n",
        "print(\"\\n\")\n",
        "while k>=1:\n",
        "    m=k\n",
        "    zz=z\n",
        "    print(\"\\t\",end='')\n",
        "    while z>=1:\n",
        "        print('',end=' ')\n",
        "        z-=1\n",
        "    \n",
        "    while m>=1:\n",
        "        \n",
        "        print(\"*\",end=' ')\n",
        "        m-=1\n",
        "        \n",
        "    print()\n",
        "    \n",
        "    k-=1\n",
        "    z=zz+1\n",
        "k=2\n",
        "z=6\n",
        "\n",
        "while k<=6:\n",
        "    m=k\n",
        "\n",
        "    zz=z\n",
        "    print(\"     \",end=' ')\n",
        "    while z>=0:\n",
        "        print(' ',end='')\n",
        "        z-=1\n",
        "      \n",
        "    while m>1:\n",
        "        \n",
        "        print(\"*\",end=' ')\n",
        "        m-=1\n",
        "        \n",
        "    print(end='\\n')\n",
        "    \n",
        "    k+=1\n",
        "    z=zz-1"
      ],
      "execution_count": null,
      "outputs": [
        {
          "output_type": "stream",
          "text": [
            "\n",
            "\n",
            "\t * * * * * \n",
            "\t  * * * * \n",
            "\t   * * * \n",
            "\t    * * \n",
            "\t     * \n",
            "             * \n",
            "            * * \n",
            "           * * * \n",
            "          * * * * \n",
            "         * * * * * \n"
          ],
          "name": "stdout"
        }
      ]
    },
    {
      "cell_type": "markdown",
      "metadata": {
        "id": "BcoIL86WEu2R"
      },
      "source": [
        "#Pattern 15\n"
      ]
    },
    {
      "cell_type": "code",
      "metadata": {
        "colab": {
          "base_uri": "https://localhost:8080/"
        },
        "id": "dKP2vvs2ErJ5",
        "outputId": "dc452d7c-c6fe-438d-b3af-185dff2e9b47"
      },
      "source": [
        "row = 14\n",
        "print(\"*\" * row, end=\"\\n\")\n",
        "i = (row // 2)\n",
        "i-=1\n",
        "j = 2\n",
        "while i != 0:\n",
        "    while j <= (row - 2):\n",
        "        print(\"*\" * i, end=\"\")\n",
        "        print(\"_\" * j, end=\"\")\n",
        "        print(\"*\" * i, end=\"\\n\")\n",
        "        i = i - 1\n",
        "        j = j + 2\n"
      ],
      "execution_count": null,
      "outputs": [
        {
          "output_type": "stream",
          "text": [
            "**************\n",
            "******__******\n",
            "*****____*****\n",
            "****______****\n",
            "***________***\n",
            "**__________**\n",
            "*____________*\n"
          ],
          "name": "stdout"
        }
      ]
    },
    {
      "cell_type": "markdown",
      "metadata": {
        "id": "b4PDQ7WdEiHX"
      },
      "source": [
        ""
      ]
    }
  ]
}